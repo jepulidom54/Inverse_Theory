{
 "cells": [
  {
   "cell_type": "markdown",
   "metadata": {},
   "source": [
    "Homework #1: Inversion for Interseismic\tFault Slip Rates"
   ]
  },
  {
   "cell_type": "markdown",
   "metadata": {},
   "source": [
    "Background: The\tearth’s\tcrust deforms as strain\tbuilds along active\tfaults\tduring\tthe interseismic period. The crustal\t deformation can be\tmeasured using\tGNSS, with stations placed across the fault. Estimates of the slip rate on the fault provide a first order constraint on the seismic hazard, as\tthe\trisk of\tstrong\tground shaking scales with the interseismic\tfault slip rate. The interseismic slip rate\ton\tthe\tfault, s, is related to the\tfault-parallel\thorizontal\tsurface\tvelocity, v, for a\tvertical strike-slip\tfault :"
   ]
  },
  {
   "cell_type": "markdown",
   "metadata": {},
   "source": [
    "The\tvariable x\tis\tthe\thorizontal\tposition\talong\tan\taxis\tperpendicular\tto\tthe\tfault.\t\tThe\tmodel\t\n",
    "assumes\tthat the\tfault\tis\tembedded\tin\tan\telastic\thalf-space\twith\tfault\tlocking\tdepth\tD.\t\n",
    "Since\tthe\tcrust\tis\tassumed\tto\tbe\telastic,\tthe\tlaw\tof\tsuperposition\tcan\tbe\tused\tto\tcalculate\t\n",
    "the\tdeformation\tfrom\tmultiple\tfaults.\t"
   ]
  },
  {
   "cell_type": "markdown",
   "metadata": {},
   "source": [
    "This\tresults\tin\tone\tequation\tper\tGNSS\tstation.\t\n",
    "\n",
    "Goal: Solve\tfor\tthe\toptimal\tset\tof\tfault\tslip\trates\ton 5\tparallel\tstrike-slip\tfaults using\ta\tGNSS\t\n",
    "data\tset (see\tdata\tfile).\t\tThe\tlocation\tof\teach\tfault\tis\tknown\tby\tmapping\tthe\tlocal\tgeology\t\n",
    "(xfault).\t\tThe\tfault\tlocking\tdepth\tfor\teach\tfault\tcan\tbe\tinferred\tbased\ton\tthe\tmaximum\tdepth\t\n",
    "of\tcrustal\tseismicity\t(Table\t1).\n",
    "\n",
    "You\tcan\tuse\tthe\tprogramming\tlanguage\tof\tyour\tchoice\tto\tcode\tthe\tproblem.\t Upload\tyour\t\n",
    "answers\tto\tCanvas\tas\ta\tscreen\tshot\tof\tyour\tcode\twith\tanswers, or\tpackaged\tas\ta\tpdf.\t\t\n",
    "Include\trelevant\tfigures\tto\thelp\tvisualize\tyour\tresults.\t"
   ]
  },
  {
   "cell_type": "markdown",
   "metadata": {},
   "source": [
    "Import packages:"
   ]
  },
  {
   "cell_type": "code",
   "execution_count": 139,
   "metadata": {},
   "outputs": [],
   "source": [
    "import numpy as np\n",
    "import math\n",
    "from cmath import sqrt\n",
    "import matplotlib.pyplot as plt\n",
    "plt.style.use(['default'])\n",
    "#plt.style.use(['science','ieee'])"
   ]
  },
  {
   "cell_type": "markdown",
   "metadata": {},
   "source": [
    "(a) [1\tpt]\tFormulate\ta\tlinear\tproblem\tof\tthe\tform d = Gm.\n",
    "\n",
    "You\tcan\teither\twrite\tout\tthe\trelevant\tequations,\tor\tshow the\tcode\tto\tcalculate\tthe\tcoefficients\tto\tthe\tequations."
   ]
  },
  {
   "cell_type": "code",
   "execution_count": 140,
   "metadata": {},
   "outputs": [],
   "source": [
    "#d(10*1)(mm) = G(10*5)(yr) * m(5*1)(mm/yr)"
   ]
  },
  {
   "cell_type": "markdown",
   "metadata": {},
   "source": [
    "(b) [1\tpt]\tConstruct\tdata d and\tmodel\tm vectors.\t\t(display\tvalues;\tspecify\tunits)"
   ]
  },
  {
   "cell_type": "code",
   "execution_count": 141,
   "metadata": {},
   "outputs": [],
   "source": [
    "#GNSS data set for the fault-parallel surface velocity\n",
    "#x_position(km) initial  \n",
    "x=np.array([5,20,25,70,105,185,200,208,220,290])\n",
    "\n",
    "#Surface_velocity(mm/yr)\n",
    "d=np.matrix([-26.8789, -27.1257, -27.4999, -14.907, -5.9737, 18.3194, 19.0408, 21.6918, 25.0392, 28.7211])\n",
    "\n",
    "#uncertainty(mm/yr)\n",
    "fit=np.matrix([1.5905, 0.8008, 1.1438, 2.6112, 0.8839, 0.7195, 2.0715, 1.358, 1.0329, 0.8648])\n",
    "\n",
    "#x_fault (km)\n",
    "xf=np.array([60,110,140,150,210])\n",
    "\n",
    "#Depth (km)\n",
    "D=np.array([10,10,5,15,12])"
   ]
  },
  {
   "cell_type": "code",
   "execution_count": 142,
   "metadata": {},
   "outputs": [
    {
     "name": "stdout",
     "output_type": "stream",
     "text": [
      "(10,)\n",
      "(5,)\n",
      "(5,)\n"
     ]
    }
   ],
   "source": [
    "print(np.shape(x))\n",
    "print(np.shape(xf))\n",
    "print(np.shape(D))\n",
    "pi = math.pi"
   ]
  },
  {
   "cell_type": "markdown",
   "metadata": {},
   "source": [
    "(c) [1\tpt]\tConstruct\tthe\tG matrix. (display\tvalues;\tspecify\tunits)"
   ]
  },
  {
   "cell_type": "markdown",
   "metadata": {},
   "source": [
    "V(xi,xf) = s/pi arctan ((xi-xf)/D)"
   ]
  },
  {
   "cell_type": "code",
   "execution_count": 143,
   "metadata": {},
   "outputs": [],
   "source": [
    "G=np.zeros((len(x),len(xf)))\n",
    "for i in range (len(x)):\n",
    "    for j in range (len(xf)):\n",
    "        G[i][j]= np.arctan((x[i]-xf[j])/D[j])/pi"
   ]
  },
  {
   "cell_type": "code",
   "execution_count": 144,
   "metadata": {},
   "outputs": [
    {
     "data": {
      "text/plain": [
       "array([[-0.44275085, -0.46977593, -0.48821613, -0.4671881 , -0.48138846],\n",
       "       [-0.42202087, -0.46477671, -0.48674476, -0.46343364, -0.47992288],\n",
       "       [-0.41141447, -0.46272313, -0.48616915, -0.46198459, -0.47938176],\n",
       "       [ 0.25      , -0.42202087, -0.47730213, -0.44100192, -0.47278282],\n",
       "       [ 0.43039551, -0.14758362, -0.45483276, -0.39758362, -0.46377888],\n",
       "       [ 0.47458933,  0.45780754,  0.46477671,  0.37111894, -0.35754997],\n",
       "       [ 0.47730213,  0.46477671,  0.47353532,  0.40722642, -0.22114206],\n",
       "       [ 0.47852522,  0.46763143,  0.47663691,  0.41944352, -0.05256846],\n",
       "       [ 0.48013148,  0.47114206,  0.48013148,  0.43280691,  0.22114206],\n",
       "       [ 0.48616915,  0.48233428,  0.4893936 ,  0.46602498,  0.45260686]])"
      ]
     },
     "execution_count": 144,
     "metadata": {},
     "output_type": "execute_result"
    }
   ],
   "source": [
    "G"
   ]
  },
  {
   "cell_type": "code",
   "execution_count": 145,
   "metadata": {},
   "outputs": [
    {
     "name": "stdout",
     "output_type": "stream",
     "text": [
      "(10, 5)\n"
     ]
    }
   ],
   "source": [
    "#This is the G matrix\n",
    "print(np.shape(G))\n"
   ]
  },
  {
   "cell_type": "markdown",
   "metadata": {},
   "source": [
    "(d) [1\tpt]\tIs\tthis\tan\tunderdetermined,\teven-determined,\tor\tover-determined\tinverse\t\n",
    "problem?\tJustify\tyour\tanswer."
   ]
  },
  {
   "cell_type": "markdown",
   "metadata": {},
   "source": [
    "Overdeterminated because there are ,more measurements that variables"
   ]
  },
  {
   "cell_type": "markdown",
   "metadata": {},
   "source": [
    "(e) [2\tpts]\tCalculate\tthe\tgeneralized\tinverse\tG-g using\tsingular\tvalue\tdecomposition. Be\t\n",
    "sure\tto\tjustify\tyour\tchoice\tof\tthreshold\tfor\tthe\tsingular\tvalues."
   ]
  },
  {
   "cell_type": "code",
   "execution_count": 146,
   "metadata": {},
   "outputs": [
    {
     "name": "stdout",
     "output_type": "stream",
     "text": [
      "(10, 5)\n",
      "(5,)\n",
      "(5, 5)\n"
     ]
    }
   ],
   "source": [
    "u,s,vh = np.linalg.svd(G, full_matrices=False)\n",
    "print(np.shape(u))\n",
    "print(np.shape(s))\n",
    "print(np.shape(vh))"
   ]
  },
  {
   "cell_type": "code",
   "execution_count": 147,
   "metadata": {},
   "outputs": [
    {
     "name": "stdout",
     "output_type": "stream",
     "text": [
      "(5, 5)\n",
      "[2.7897326  1.19519498 0.62683346 0.1267487  0.01184108]\n"
     ]
    }
   ],
   "source": [
    "sm = np.matrix([[s[0],0,0,0,0],\n",
    "                [0,s[1],0,0,0],\n",
    "                [0,0,s[2],0,0],\n",
    "                [0,0,0,s[3],0],\n",
    "                [0,0,0,0,s[4]]])\n",
    "print(np.shape(sm))\n",
    "print(s)  \n"
   ]
  },
  {
   "cell_type": "code",
   "execution_count": 148,
   "metadata": {},
   "outputs": [
    {
     "data": {
      "text/plain": [
       "Text(0.5, 1.0, 'vh')"
      ]
     },
     "execution_count": 148,
     "metadata": {},
     "output_type": "execute_result"
    },
    {
     "data": {
      "image/png": "[encoded data removed]",
      "text/plain": [
       "<Figure size 1100x800 with 3 Axes>"
      ]
     },
     "metadata": {},
     "output_type": "display_data"
    }
   ],
   "source": [
    "fig,ax=plt.subplots(1,3,figsize=(11,8))\n",
    "ax[0].imshow(u)\n",
    "ax[0].set_title('u')\n",
    "ax[1].imshow(sm)\n",
    "ax[1].set_title('sm')\n",
    "ax[2].imshow(vh)\n",
    "ax[2].set_title('vh')"
   ]
  },
  {
   "cell_type": "markdown",
   "metadata": {},
   "source": [
    "I'm going to select a 'p' threshold of 4, because the last value is < 0.1 so is not representative. "
   ]
  },
  {
   "cell_type": "code",
   "execution_count": 149,
   "metadata": {},
   "outputs": [
    {
     "name": "stdout",
     "output_type": "stream",
     "text": [
      "[[2.7897326  0.         0.         0.        ]\n",
      " [0.         1.19519498 0.         0.        ]\n",
      " [0.         0.         0.62683346 0.        ]\n",
      " [0.         0.         0.         0.1267487 ]]\n"
     ]
    }
   ],
   "source": [
    "sm\n",
    "p=4\n",
    "print(sm[0:p, 0:p])\n",
    "sp=(sm[0:p, 0:p])"
   ]
  },
  {
   "cell_type": "code",
   "execution_count": 150,
   "metadata": {},
   "outputs": [],
   "source": [
    "up=np.transpose(u[:,0:p])\n",
    "sp=np.linalg.inv(sm[0:p,0:p])\n",
    "vp=np.transpose(vh[0:p,:])"
   ]
  },
  {
   "cell_type": "code",
   "execution_count": 151,
   "metadata": {},
   "outputs": [
    {
     "name": "stdout",
     "output_type": "stream",
     "text": [
      "(5, 4)\n",
      "(4, 4)\n",
      "(4, 10)\n"
     ]
    }
   ],
   "source": [
    "print(np.shape(vp))\n",
    "print(np.shape(sp))\n",
    "print(np.shape(up))"
   ]
  },
  {
   "cell_type": "code",
   "execution_count": 152,
   "metadata": {},
   "outputs": [
    {
     "data": {
      "text/plain": [
       "Text(0.5, 1.0, 'up')"
      ]
     },
     "execution_count": 152,
     "metadata": {},
     "output_type": "execute_result"
    },
    {
     "data": {
      "image/png": "[encoded data removed]",
      "text/plain": [
       "<Figure size 1100x800 with 3 Axes>"
      ]
     },
     "metadata": {},
     "output_type": "display_data"
    }
   ],
   "source": [
    "fig,ax=plt.subplots(1,3,figsize=(11,8))\n",
    "ax[0].imshow(vp)\n",
    "ax[0].set_title('vp')\n",
    "ax[1].imshow(sp)\n",
    "ax[1].set_title('sp')\n",
    "ax[2].imshow(up)\n",
    "ax[2].set_title('up')"
   ]
  },
  {
   "cell_type": "code",
   "execution_count": 153,
   "metadata": {},
   "outputs": [
    {
     "name": "stdout",
     "output_type": "stream",
     "text": [
      "(10, 5)\n",
      "(5, 10)\n"
     ]
    }
   ],
   "source": [
    "# Here is the calculation to get the Generalized inverse Gg using SVD, with a threshold of 4\n",
    "Gg = vp*sp*up\n",
    "print(np.shape(G))\n",
    "print(np.shape(Gg))"
   ]
  },
  {
   "cell_type": "code",
   "execution_count": 154,
   "metadata": {},
   "outputs": [
    {
     "data": {
      "text/plain": [
       "Text(0.5, 1.0, 'Gg.T')"
      ]
     },
     "execution_count": 154,
     "metadata": {},
     "output_type": "execute_result"
    },
    {
     "data": {
      "image/png": "[encoded data removed]",
      "text/plain": [
       "<Figure size 1100x800 with 2 Axes>"
      ]
     },
     "metadata": {},
     "output_type": "display_data"
    }
   ],
   "source": [
    "fig,ax=plt.subplots(1,2,figsize=(11,8))\n",
    "ax[0].imshow(G)\n",
    "ax[0].set_title('G')\n",
    "ax[1].imshow(Gg.T)\n",
    "ax[1].set_title('Gg.T')"
   ]
  },
  {
   "cell_type": "markdown",
   "metadata": {},
   "source": [
    "(f) [1\tpt]\tEstimate\tthe\toptimal\tmodel\tparameters\tmest. (display\tvalues;\tspecify\tunits)"
   ]
  },
  {
   "cell_type": "code",
   "execution_count": 155,
   "metadata": {},
   "outputs": [],
   "source": [
    "m=Gg*(d.T+fit.T)"
   ]
  },
  {
   "cell_type": "code",
   "execution_count": 156,
   "metadata": {},
   "outputs": [
    {
     "data": {
      "text/plain": [
       "(5, 1)"
      ]
     },
     "execution_count": 156,
     "metadata": {},
     "output_type": "execute_result"
    }
   ],
   "source": [
    "np.shape(m)"
   ]
  },
  {
   "cell_type": "code",
   "execution_count": 157,
   "metadata": {},
   "outputs": [
    {
     "name": "stdout",
     "output_type": "stream",
     "text": [
      "Data mm/yr\n",
      "[[-26.8789 -27.1257 -27.4999 -14.907   -5.9737  18.3194  19.0408  21.6918\n",
      "   25.0392  28.7211]]\n",
      "Uncertainty(mm/yr\n",
      "[1.5905 0.8008 1.1438 2.6112 0.8839 0.7195 2.0715 1.358  1.0329 0.8648]\n",
      "Model Parameters mm/yr\n",
      "[[20.22065393 10.53061472  9.7624925   9.50078862  8.49204332]]\n"
     ]
    }
   ],
   "source": [
    "print(\"Data mm/yr\") \n",
    "print(d)\n",
    "\n",
    "print(\"Uncertainty(mm/yr\")\n",
    "fit=np.array([1.5905, 0.8008, 1.1438, 2.6112, 0.8839, 0.7195, 2.0715, 1.358, 1.0329, 0.8648])\n",
    "print(fit)\n",
    "\n",
    "print(\"Model Parameters mm/yr\") \n",
    "print(m.T)"
   ]
  },
  {
   "cell_type": "markdown",
   "metadata": {},
   "source": [
    "(g) [1\tpt]\tEstimate\tthe\tmodel\tcovariance\tmatrix. (display\tvalues;\tspecify\tunits)"
   ]
  },
  {
   "cell_type": "code",
   "execution_count": 158,
   "metadata": {},
   "outputs": [
    {
     "name": "stdout",
     "output_type": "stream",
     "text": [
      "(10, 10)\n"
     ]
    },
    {
     "data": {
      "text/plain": [
       "<matplotlib.colorbar.Colorbar at 0x1ea88ddd100>"
      ]
     },
     "execution_count": 158,
     "metadata": {},
     "output_type": "execute_result"
    },
    {
     "data": {
      "image/png": "[encoded data removed]",
      "text/plain": [
       "<Figure size 640x480 with 2 Axes>"
      ]
     },
     "metadata": {},
     "output_type": "display_data"
    }
   ],
   "source": [
    "\n",
    "#Normally Distributed Data\n",
    "# Data covariance matrix\n",
    "# Uncertainty(mm/yr)\n",
    "fit=np.array([1.5905, 0.8008, 1.1438, 2.6112, 0.8839, 0.7195, 2.0715, 1.358, 1.0329, 0.8648])\n",
    "\n",
    "COVd = np.matrix([[np.square(fit[0]),0,0,0,0,0,0,0,0,0],\n",
    "                [0,np.square(fit[1]),0,0,0,0,0,0,0,0],\n",
    "                [0,0,np.square(fit[2]),0,0,0,0,0,0,0],\n",
    "                [0,0,0,np.square(fit[3]),0,0,0,0,0,0],\n",
    "                [0,0,0,0,np.square(fit[4]),0,0,0,0,0],\n",
    "                [0,0,0,0,0,np.square(fit[5]),0,0,0,0],\n",
    "                [0,0,0,0,0,0,np.square(fit[6]),0,0,0],\n",
    "                [0,0,0,0,0,0,0,np.square(fit[7]),0,0],\n",
    "                [0,0,0,0,0,0,0,0,np.square(fit[8]),0],\n",
    "                [0,0,0,0,0,0,0,0,0,np.square(fit[9])]])\n",
    "print(np.shape(COVd))\n",
    "plt.imshow(COVd)\n",
    "plt.colorbar()"
   ]
  },
  {
   "cell_type": "code",
   "execution_count": 159,
   "metadata": {},
   "outputs": [
    {
     "name": "stdout",
     "output_type": "stream",
     "text": [
      "(5, 5)\n"
     ]
    },
    {
     "data": {
      "text/plain": [
       "<matplotlib.colorbar.Colorbar at 0x1ea89f67f40>"
      ]
     },
     "execution_count": 159,
     "metadata": {},
     "output_type": "execute_result"
    },
    {
     "data": {
      "image/png": "[encoded data removed]",
      "text/plain": [
       "<Figure size 640x480 with 2 Axes>"
      ]
     },
     "metadata": {},
     "output_type": "display_data"
    }
   ],
   "source": [
    "COVm = Gg*COVd*Gg.T\n",
    "print(np.shape(COVm))\n",
    "plt.imshow(COVm)\n",
    "plt.colorbar()"
   ]
  },
  {
   "cell_type": "markdown",
   "metadata": {},
   "source": [
    "(h) [1\tpt]\tReport\tthe\testimated\tslip\trate\tand\tuncertainty\tfor\tall\tthe\tfaults\t(make\ta\ttable)."
   ]
  },
  {
   "cell_type": "code",
   "execution_count": 163,
   "metadata": {},
   "outputs": [
    {
     "name": "stdout",
     "output_type": "stream",
     "text": [
      "[[20.22065393]\n",
      " [10.53061472]\n",
      " [ 9.7624925 ]\n",
      " [ 9.50078862]\n",
      " [ 8.49204332]]\n",
      "[[ 2.08367810e+01 -6.16460797e+01  2.60170331e+01  1.60155139e+01\n",
      "   8.84144917e-02]\n",
      " [-6.16460797e+01  1.95966124e+02 -8.53066784e+01 -5.26904068e+01\n",
      "   2.04342742e+00]\n",
      " [ 2.60170331e+01 -8.53066784e+01  3.81547858e+01  2.36285754e+01\n",
      "  -2.08100085e+00]\n",
      " [ 1.60155139e+01 -5.26904068e+01  2.36285754e+01  1.46412793e+01\n",
      "  -1.29562304e+00]\n",
      " [ 8.84144917e-02  2.04342742e+00 -2.08100085e+00 -1.29562304e+00\n",
      "   2.24290203e+00]]\n"
     ]
    }
   ],
   "source": [
    "#print(mV)\n",
    "print(m)\n",
    "print(COVm)"
   ]
  },
  {
   "cell_type": "markdown",
   "metadata": {},
   "source": [
    "(i) [1\tpt] Calculate\tthe\tdata\tresolution\tmatrix\tRdata.\t\t(Show\tthe\tfull\tmatrix)"
   ]
  },
  {
   "cell_type": "code",
   "execution_count": 164,
   "metadata": {},
   "outputs": [
    {
     "data": {
      "text/plain": [
       "numpy.ndarray"
      ]
     },
     "execution_count": 164,
     "metadata": {},
     "output_type": "execute_result"
    }
   ],
   "source": [
    "type(u)"
   ]
  },
  {
   "cell_type": "code",
   "execution_count": 165,
   "metadata": {},
   "outputs": [
    {
     "name": "stdout",
     "output_type": "stream",
     "text": [
      "(10, 10)\n"
     ]
    },
    {
     "data": {
      "text/plain": [
       "<matplotlib.colorbar.Colorbar at 0x1ea8ba68fd0>"
      ]
     },
     "execution_count": 165,
     "metadata": {},
     "output_type": "execute_result"
    },
    {
     "data": {
      "image/png": "[encoded data removed]",
      "text/plain": [
       "<Figure size 640x480 with 2 Axes>"
      ]
     },
     "metadata": {},
     "output_type": "display_data"
    }
   ],
   "source": [
    "S = np.dot(u,u.T)\n",
    "print(np.shape(S))\n",
    "figS=plt.imshow(S)\n",
    "plt.colorbar()"
   ]
  },
  {
   "cell_type": "markdown",
   "metadata": {},
   "source": [
    "(j) [1\tpt]\tCalculate\tthe\tmodel\tresolution\tmatrix\tRmodel.\t\t(Show\tthe\tfull\tmatrix)"
   ]
  },
  {
   "cell_type": "code",
   "execution_count": 166,
   "metadata": {},
   "outputs": [
    {
     "name": "stdout",
     "output_type": "stream",
     "text": [
      "(5, 5)\n"
     ]
    },
    {
     "data": {
      "text/plain": [
       "<matplotlib.colorbar.Colorbar at 0x1ea8bb0a520>"
      ]
     },
     "execution_count": 166,
     "metadata": {},
     "output_type": "execute_result"
    },
    {
     "data": {
      "image/png": "[encoded data removed]",
      "text/plain": [
       "<Figure size 640x480 with 2 Axes>"
      ]
     },
     "metadata": {},
     "output_type": "display_data"
    }
   ],
   "source": [
    "R=np.dot(vp,vp.T)\n",
    "print(np.shape(R))\n",
    "figS=plt.imshow(R)\n",
    "plt.colorbar()\n"
   ]
  },
  {
   "cell_type": "code",
   "execution_count": 167,
   "metadata": {},
   "outputs": [
    {
     "data": {
      "text/plain": [
       "Text(0.5, 1.0, 'R')"
      ]
     },
     "execution_count": 167,
     "metadata": {},
     "output_type": "execute_result"
    },
    {
     "data": {
      "image/png": "[encoded data removed]",
      "text/plain": [
       "<Figure size 1100x800 with 2 Axes>"
      ]
     },
     "metadata": {},
     "output_type": "display_data"
    }
   ],
   "source": [
    "fig,ax=plt.subplots(1,2,figsize=(11,8))\n",
    "ax[0].imshow(S)\n",
    "ax[0].set_title('S')\n",
    "ax[1].imshow(R)\n",
    "ax[1].set_title('R')"
   ]
  },
  {
   "cell_type": "markdown",
   "metadata": {},
   "source": [
    "(k) [1\tpt]\tWhich\tpredicted\tdata (GNSS\tstations)\tare best\tresolved?\t\t"
   ]
  },
  {
   "cell_type": "code",
   "execution_count": 168,
   "metadata": {},
   "outputs": [
    {
     "name": "stdout",
     "output_type": "stream",
     "text": [
      "the elements located i the position 3,4,5, of the matrix S\n",
      "0.9985426301679063\n",
      "0.9982448420756607\n",
      "0.812788925161322\n"
     ]
    }
   ],
   "source": [
    "print(\"the elements located i the position 3,4,5, of the matrix S\") \n",
    "print(S[3,3])\n",
    "print(S[4,4])\n",
    "print(S[5,5])"
   ]
  },
  {
   "cell_type": "markdown",
   "metadata": {},
   "source": [
    "Which\tpredicted\t\n",
    "data are least\tresolved?"
   ]
  },
  {
   "cell_type": "code",
   "execution_count": 169,
   "metadata": {},
   "outputs": [
    {
     "name": "stdout",
     "output_type": "stream",
     "text": [
      "the elements located i the position 0,1,2, of the matrix S\n",
      "0.9998203403921214\n",
      "0.9963197991033216\n",
      "0.621639276105068\n"
     ]
    }
   ],
   "source": [
    "print(\"the elements located i the position 0,1,2, of the matrix S\") \n",
    "print(R[0,0])\n",
    "print(R[1,1])\n",
    "print(R[2,2])"
   ]
  },
  {
   "cell_type": "markdown",
   "metadata": {},
   "source": [
    "(l) [1\tpt]\tWhich\testimated\tmodel\tparameter\tis\tbest\tresolved?\t"
   ]
  },
  {
   "cell_type": "code",
   "execution_count": 170,
   "metadata": {},
   "outputs": [
    {
     "name": "stdout",
     "output_type": "stream",
     "text": [
      "the elements located i the position 1,4,5, of the matrix R\n",
      "0.9963197991033216\n",
      "0.621639276105068\n",
      "0.99611746525892\n"
     ]
    }
   ],
   "source": [
    "print(\"the elements located i the position 1,4,5, of the matrix R\") \n",
    "print(R[1,1])\n",
    "print(R[2,2])\n",
    "print(R[4,4])"
   ]
  },
  {
   "cell_type": "markdown",
   "metadata": {},
   "source": [
    "Which\testimated\tmodel\tparameter\tis\tleast\tresolved?"
   ]
  },
  {
   "cell_type": "code",
   "execution_count": 171,
   "metadata": {},
   "outputs": [
    {
     "name": "stdout",
     "output_type": "stream",
     "text": [
      "the elements located i the position 3,4,5, of the matrix R\n",
      "0.3861031191405679\n"
     ]
    }
   ],
   "source": [
    "print(\"the elements located i the position 3,4,5, of the matrix R\") \n",
    "print(R[3,3])"
   ]
  },
  {
   "cell_type": "markdown",
   "metadata": {},
   "source": [
    "(m) [1\tpt]\tInterpretation:\t\tWhich\tfault\thas\tthe\tlargest\tinterseismic\tslip\trate?\t\tWhich\tfault\t\n",
    "has\tthe\tlowest\tinterseismic\tslip\trate?"
   ]
  },
  {
   "cell_type": "code",
   "execution_count": 173,
   "metadata": {},
   "outputs": [
    {
     "name": "stdout",
     "output_type": "stream",
     "text": [
      "the fault with the largest slip rate is the first one\n",
      "[[20.22065393]\n",
      " [10.53061472]\n",
      " [ 9.7624925 ]\n",
      " [ 9.50078862]\n",
      " [ 8.49204332]]\n"
     ]
    }
   ],
   "source": [
    "print(\"the fault with the largest slip rate is the first one\") \n",
    "print(m)\n"
   ]
  },
  {
   "cell_type": "markdown",
   "metadata": {},
   "source": [
    "(n) [2\tpts]\tInterpretation:\t\tWhere\twould\tyou\tplace\tan\tadditional\tGNSS\tstation\tto\t\n",
    "improve\tthe\tresolution\tof\tthe\tfault\tslip\trate?\t\tJustify\tyour\tanswer\tby\tcalculating\ta\t\n",
    "new\tRmodel."
   ]
  },
  {
   "cell_type": "code",
   "execution_count": 178,
   "metadata": {},
   "outputs": [
    {
     "name": "stdout",
     "output_type": "stream",
     "text": [
      "I would add a station in the position -10 at the beginin of the array to add more constrains to the model in the first block\n",
      "[[20.22065393]\n",
      " [10.53061472]\n",
      " [ 9.7624925 ]\n",
      " [ 9.50078862]\n",
      " [ 8.49204332]]\n",
      "[[-27.5524356 ]\n",
      " [-27.16259903]\n",
      " [-26.96350927]\n",
      " [-14.92053322]\n",
      " [ -5.97118953]\n",
      " [ 18.21191036]\n",
      " [ 19.18655574]\n",
      " [ 21.49168767]\n",
      " [ 25.45586467]\n",
      " [ 28.28164384]]\n"
     ]
    }
   ],
   "source": [
    "print('I would add a station in the position -10 at the beginin of the array to add more constrains to the model in the first block')\n",
    "Mest = R*m\n",
    "Dpred = S*d.T\n",
    "print(Mest)\n",
    "print(Dpred)\n"
   ]
  },
  {
   "cell_type": "code",
   "execution_count": 177,
   "metadata": {},
   "outputs": [
    {
     "name": "stdout",
     "output_type": "stream",
     "text": [
      "[[20.22065393]\n",
      " [10.53061472]\n",
      " [ 9.7624925 ]\n",
      " [ 9.50078862]\n",
      " [ 8.49204332]]\n"
     ]
    }
   ],
   "source": [
    "msi=Gg*(d+fit).T\n",
    "print(msi)"
   ]
  },
  {
   "cell_type": "code",
   "execution_count": null,
   "metadata": {},
   "outputs": [],
   "source": []
  }
 ],
 "metadata": {
  "kernelspec": {
   "display_name": "Python 3.9.12 ('base')",
   "language": "python",
   "name": "python3"
  },
  "language_info": {
   "codemirror_mode": {
    "name": "ipython",
    "version": 3
   },
   "file_extension": ".py",
   "mimetype": "text/x-python",
   "name": "python",
   "nbconvert_exporter": "python",
   "pygments_lexer": "ipython3",
   "version": "3.9.12"
  },
  "orig_nbformat": 4,
  "vscode": {
   "interpreter": {
    "hash": "82a221401b88aaf6e5f57ee7bedcbd75c4114103ebfad44d5c146cffcdea6559"
   }
  }
 },
 "nbformat": 4,
 "nbformat_minor": 2
}
