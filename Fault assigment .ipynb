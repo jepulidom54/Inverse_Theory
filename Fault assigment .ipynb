{
 "cells": [
  {
   "cell_type": "code",
   "execution_count": 1,
   "metadata": {},
   "outputs": [],
   "source": [
    "import numpy as np\n",
    "import math\n",
    "from cmath import sqrt\n",
    "import matplotlib.pyplot as plt"
   ]
  },
  {
   "cell_type": "code",
   "execution_count": 41,
   "metadata": {},
   "outputs": [],
   "source": [
    "#GNSS data set for the fault-parallel surface velocity\n",
    "\n",
    "#x_position(km) initial  \n",
    "x=np.array([5,20,25,70,105,185,200,208,220,290])\n",
    "#Surface_velocity(mm/yr)\n",
    "d=np.matrix([-26.8789, -27.1257, -27.4999, -14.907, -5.9737, 18.3194, 19.0408, 21.6918, 25.0392, 28.7211])\n",
    "#uncertainty(mm/yr)\n",
    "fit=np.matrix([1.5905, 0.8008, 1.1438, 2.6112, 0.8839, 0.7195, 2.0715, 1.358, 1.0329, 0.8648])\n",
    "#x_fault\n",
    "xf=np.array([60,110,140,150,210])\n",
    "#Depth\n",
    "D=np.array([10,10,5,15,12])\n",
    "np.shape(x)\n",
    "np.shape(xf)\n",
    "np.shape(D)\n",
    "pi = math.pi"
   ]
  },
  {
   "cell_type": "code",
   "execution_count": 51,
   "metadata": {},
   "outputs": [],
   "source": [
    "v1=np.zeros((len(x)))\n",
    "for i in range (len(x)):\n",
    "    v1[i]= np.arctan((x[i]-xf[0])/D[0])/pi\n",
    "v2=np.zeros((len(x)))\n",
    "for i in range (len(x)):\n",
    "    v2[i]= np.arctan((x[i]-xf[1])/D[1])/pi\n",
    "v3=np.zeros((len(x)))\n",
    "for i in range (len(x)):\n",
    "    v3[i]= np.arctan((x[i]-xf[2])/D[2])/pi\n",
    "v4=np.zeros((len(x)))\n",
    "for i in range (len(x)):\n",
    "    v4[i]= np.arctan((x[i]-xf[3])/D[3])/pi\n",
    "v5=np.zeros((len(x)))\n",
    "for i in range (len(x)):\n",
    "    v5[i]= np.arctan((x[i]-xf[4])/D[4])/pi\n",
    "\n",
    "VM=(v1.T,v2.T,v3.T,v4.T,v5.T)"
   ]
  },
  {
   "cell_type": "code",
   "execution_count": 4,
   "metadata": {},
   "outputs": [
    {
     "name": "stdout",
     "output_type": "stream",
     "text": [
      "-0.44275085295129984\n",
      "0.4861691504333381\n"
     ]
    }
   ],
   "source": [
    "v1f1 = np.arctan((x[0]-xf[0])/D[0])/pi\n",
    "v2f1 = np.arctan((x[1]-xf[0])/D[0])/pi\n",
    "v3f1 = np.arctan((x[2]-xf[0])/D[0])/pi\n",
    "v4f1 = np.arctan((x[3]-xf[0])/D[0])/pi\n",
    "v5f1 = np.arctan((x[4]-xf[0])/D[0])/pi\n",
    "v6f1 = np.arctan((x[5]-xf[0])/D[0])/pi\n",
    "v7f1 = np.arctan((x[6]-xf[0])/D[0])/pi\n",
    "v8f1 = np.arctan((x[7]-xf[0])/D[0])/pi\n",
    "v9f1 = np.arctan((x[8]-xf[0])/D[0])/pi\n",
    "v10f1 = np.arctan((x[9]-xf[0])/D[0])/pi\n",
    "\n",
    "print(v1f1)\n",
    "print(v10f1)"
   ]
  },
  {
   "cell_type": "code",
   "execution_count": 6,
   "metadata": {},
   "outputs": [
    {
     "name": "stdout",
     "output_type": "stream",
     "text": [
      "-0.4697759331610805\n",
      "0.48233427711186533\n"
     ]
    }
   ],
   "source": [
    "v1f2 = np.arctan((x[0]-xf[1])/D[1])/pi\n",
    "v2f2 = np.arctan((x[1]-xf[1])/D[1])/pi\n",
    "v3f2 = np.arctan((x[2]-xf[1])/D[1])/pi\n",
    "v4f2 = np.arctan((x[3]-xf[1])/D[1])/pi\n",
    "v5f2 = np.arctan((x[4]-xf[1])/D[1])/pi\n",
    "v6f2 = np.arctan((x[5]-xf[1])/D[1])/pi\n",
    "v7f2 = np.arctan((x[6]-xf[1])/D[1])/pi\n",
    "v8f2 = np.arctan((x[7]-xf[1])/D[1])/pi\n",
    "v9f2 = np.arctan((x[8]-xf[1])/D[1])/pi\n",
    "v10f2 = np.arctan((x[9]-xf[1])/D[1])/pi\n",
    "\n",
    "print(v1f2)\n",
    "print(v10f2)"
   ]
  },
  {
   "cell_type": "code",
   "execution_count": 7,
   "metadata": {},
   "outputs": [
    {
     "name": "stdout",
     "output_type": "stream",
     "text": [
      "-0.48821613112965856\n",
      "0.48939359759446455\n"
     ]
    }
   ],
   "source": [
    "v1f3 = np.arctan((x[0]-xf[2])/D[2])/pi\n",
    "v2f3 = np.arctan((x[1]-xf[2])/D[2])/pi\n",
    "v3f3 = np.arctan((x[2]-xf[2])/D[2])/pi\n",
    "v4f3 = np.arctan((x[3]-xf[2])/D[2])/pi\n",
    "v5f3 = np.arctan((x[4]-xf[2])/D[2])/pi\n",
    "v6f3 = np.arctan((x[5]-xf[2])/D[2])/pi\n",
    "v7f3 = np.arctan((x[6]-xf[2])/D[2])/pi\n",
    "v8f3 = np.arctan((x[7]-xf[2])/D[2])/pi\n",
    "v9f3 = np.arctan((x[8]-xf[2])/D[2])/pi\n",
    "v10f3 = np.arctan((x[9]-xf[2])/D[2])/pi\n",
    "\n",
    "print(v1f3)\n",
    "print(v10f3)"
   ]
  },
  {
   "cell_type": "code",
   "execution_count": 8,
   "metadata": {},
   "outputs": [
    {
     "name": "stdout",
     "output_type": "stream",
     "text": [
      "-0.4671881049234972\n",
      "0.4660249801873033\n"
     ]
    }
   ],
   "source": [
    "v1f4 = np.arctan((x[0]-xf[3])/D[3])/pi\n",
    "v2f4 = np.arctan((x[1]-xf[3])/D[3])/pi\n",
    "v3f4 = np.arctan((x[2]-xf[3])/D[3])/pi\n",
    "v4f4 = np.arctan((x[3]-xf[3])/D[3])/pi\n",
    "v5f4 = np.arctan((x[4]-xf[3])/D[3])/pi\n",
    "v6f4 = np.arctan((x[5]-xf[3])/D[3])/pi\n",
    "v7f4 = np.arctan((x[6]-xf[3])/D[3])/pi\n",
    "v8f4 = np.arctan((x[7]-xf[3])/D[3])/pi\n",
    "v9f4 = np.arctan((x[8]-xf[3])/D[3])/pi\n",
    "v10f4 = np.arctan((x[9]-xf[3])/D[3])/pi\n",
    "\n",
    "print(v1f4)\n",
    "print(v10f4)"
   ]
  },
  {
   "cell_type": "code",
   "execution_count": 9,
   "metadata": {},
   "outputs": [
    {
     "name": "stdout",
     "output_type": "stream",
     "text": [
      "-0.4813884644583251\n",
      "0.4526068577225104\n"
     ]
    }
   ],
   "source": [
    "v1f5 = np.arctan((x[0]-xf[4])/D[4])/pi\n",
    "v2f5 = np.arctan((x[1]-xf[4])/D[4])/pi\n",
    "v3f5 = np.arctan((x[2]-xf[4])/D[4])/pi\n",
    "v4f5 = np.arctan((x[3]-xf[4])/D[4])/pi\n",
    "v5f5 = np.arctan((x[4]-xf[4])/D[4])/pi\n",
    "v6f5 = np.arctan((x[5]-xf[4])/D[4])/pi\n",
    "v7f5 = np.arctan((x[6]-xf[4])/D[4])/pi\n",
    "v8f5 = np.arctan((x[7]-xf[4])/D[4])/pi\n",
    "v9f5 = np.arctan((x[8]-xf[4])/D[4])/pi\n",
    "v10f5 = np.arctan((x[9]-xf[4])/D[4])/pi\n",
    "\n",
    "print(v1f5)\n",
    "print(v10f5)"
   ]
  },
  {
   "cell_type": "code",
   "execution_count": 12,
   "metadata": {},
   "outputs": [
    {
     "name": "stdout",
     "output_type": "stream",
     "text": [
      "(10, 5)\n",
      "(10,)\n"
     ]
    }
   ],
   "source": [
    "G=np.matrix([[v1f1, v1f2, v1f3, v1f4, v1f5],\n",
    "             [v2f1, v2f2, v2f3, v2f4, v2f5],\n",
    "             [v3f1, v3f2, v3f3, v3f4, v3f5],\n",
    "             [v4f1, v4f2, v4f3, v4f4, v4f5],\n",
    "             [v5f1, v5f2, v5f3, v5f4, v5f5],\n",
    "             [v6f1, v6f2, v6f3, v6f4, v6f5],\n",
    "             [v7f1, v7f2, v7f3, v7f4, v7f5],\n",
    "             [v8f1, v8f2, v8f3, v8f4, v8f5],\n",
    "             [v9f1, v9f2, v9f3, v9f4, v9f5],\n",
    "             [v10f1, v10f2, v10f3, v10f4, v10f5]])\n",
    "\n",
    "print(np.shape(G))\n",
    "print(np.shape(d))"
   ]
  },
  {
   "cell_type": "code",
   "execution_count": 53,
   "metadata": {},
   "outputs": [
    {
     "name": "stdout",
     "output_type": "stream",
     "text": [
      "[[-0.44275085 -0.46977593 -0.48821613 -0.4671881  -0.48138846]\n",
      " [-0.42202087 -0.46477671 -0.48674476 -0.46343364 -0.47992288]\n",
      " [-0.41141447 -0.46272313 -0.48616915 -0.46198459 -0.47938176]\n",
      " [ 0.25       -0.42202087 -0.47730213 -0.44100192 -0.47278282]\n",
      " [ 0.43039551 -0.14758362 -0.45483276 -0.39758362 -0.46377888]\n",
      " [ 0.47458933  0.45780754  0.46477671  0.37111894 -0.35754997]\n",
      " [ 0.47730213  0.46477671  0.47353532  0.40722642 -0.22114206]\n",
      " [ 0.47852522  0.46763143  0.47663691  0.41944352 -0.05256846]\n",
      " [ 0.48013148  0.47114206  0.48013148  0.43280691  0.22114206]\n",
      " [ 0.48616915  0.48233428  0.4893936   0.46602498  0.45260686]]\n"
     ]
    }
   ],
   "source": [
    "print(G)"
   ]
  },
  {
   "cell_type": "code",
   "execution_count": 16,
   "metadata": {},
   "outputs": [
    {
     "name": "stdout",
     "output_type": "stream",
     "text": [
      "(10, 10)\n",
      "(5,)\n",
      "(5, 5)\n"
     ]
    }
   ],
   "source": [
    "u,s,vh = np.linalg.svd(G, full_matrices=True)\n",
    "print(np.shape(u))\n",
    "print(np.shape(s))\n",
    "print(np.shape(vh))\n",
    "\n"
   ]
  },
  {
   "cell_type": "code",
   "execution_count": 17,
   "metadata": {},
   "outputs": [
    {
     "data": {
      "text/plain": [
       "(5, 5)"
      ]
     },
     "execution_count": 17,
     "metadata": {},
     "output_type": "execute_result"
    }
   ],
   "source": [
    "sm = np.matrix([[s[0],0,0,0,0],\n",
    "                [0,s[1],0,0,0],\n",
    "                [0,0,s[2],0,0],\n",
    "                [0,0,0,s[3],0],\n",
    "                [0,0,0,0,s[4]]])\n",
    "np.shape(sm)  "
   ]
  },
  {
   "cell_type": "code",
   "execution_count": 18,
   "metadata": {},
   "outputs": [
    {
     "name": "stdout",
     "output_type": "stream",
     "text": [
      "[[2.7897326  0.         0.         0.        ]\n",
      " [0.         1.19519498 0.         0.        ]\n",
      " [0.         0.         0.62683346 0.        ]\n",
      " [0.         0.         0.         0.1267487 ]]\n"
     ]
    }
   ],
   "source": [
    "sm\n",
    "p=4\n",
    "print(sm[0:p, 0:p])\n",
    "sp=(sm[0:p, 0:p])"
   ]
  },
  {
   "cell_type": "code",
   "execution_count": 22,
   "metadata": {},
   "outputs": [],
   "source": [
    "up=np.transpose(u[:,0:p])\n",
    "sp=np.linalg.inv(sm[0:p,0:p])\n",
    "vp=np.transpose(vh[0:p,:])"
   ]
  },
  {
   "cell_type": "code",
   "execution_count": 23,
   "metadata": {},
   "outputs": [
    {
     "name": "stdout",
     "output_type": "stream",
     "text": [
      "(5, 4)\n",
      "(4, 4)\n",
      "(4, 10)\n"
     ]
    }
   ],
   "source": [
    "print(np.shape(vp))\n",
    "print(np.shape(sp))\n",
    "print(np.shape(up))"
   ]
  },
  {
   "cell_type": "code",
   "execution_count": 30,
   "metadata": {},
   "outputs": [
    {
     "name": "stdout",
     "output_type": "stream",
     "text": [
      "(5, 10)\n",
      "(1, 10)\n"
     ]
    }
   ],
   "source": [
    "Gg = vp*sp*up\n",
    "print(np.shape(Gg))\n",
    "print(np.shape(d+fit))"
   ]
  },
  {
   "cell_type": "code",
   "execution_count": 43,
   "metadata": {},
   "outputs": [],
   "source": [
    "m=Gg*d.T"
   ]
  },
  {
   "cell_type": "code",
   "execution_count": 32,
   "metadata": {},
   "outputs": [
    {
     "name": "stdout",
     "output_type": "stream",
     "text": [
      "[[16.49858738]\n",
      " [20.10878787]\n",
      " [ 4.87877401]\n",
      " [ 6.56927344]\n",
      " [11.31615565]]\n",
      "[[-26.8789 -27.1257 -27.4999 -14.907   -5.9737  18.3194  19.0408  21.6918\n",
      "   25.0392  28.7211]]\n"
     ]
    }
   ],
   "source": [
    "print(m)\n",
    "print(d)"
   ]
  },
  {
   "cell_type": "code",
   "execution_count": 33,
   "metadata": {},
   "outputs": [
    {
     "name": "stdout",
     "output_type": "stream",
     "text": [
      "(5, 5)\n"
     ]
    }
   ],
   "source": [
    "R=vp*vp.T\n",
    "print(np.shape(R))\n",
    "#R\n"
   ]
  },
  {
   "cell_type": "code",
   "execution_count": 34,
   "metadata": {},
   "outputs": [
    {
     "name": "stdout",
     "output_type": "stream",
     "text": [
      "(10, 10)\n"
     ]
    }
   ],
   "source": [
    "S=u*u.T\n",
    "print(np.shape(S))"
   ]
  },
  {
   "cell_type": "code",
   "execution_count": 35,
   "metadata": {},
   "outputs": [
    {
     "data": {
      "text/plain": [
       "Text(0.5, 1.0, 'S')"
      ]
     },
     "execution_count": 35,
     "metadata": {},
     "output_type": "execute_result"
    },
    {
     "data": {
      "image/png": "[encoded data removed]",
      "text/plain": [
       "<Figure size 792x576 with 2 Axes>"
      ]
     },
     "metadata": {
      "needs_background": "light"
     },
     "output_type": "display_data"
    }
   ],
   "source": [
    "fig,ax=plt.subplots(1,2,figsize=(11,8))\n",
    "ax[0].imshow(R)\n",
    "ax[0].set_title('R')\n",
    "ax[1].imshow(S)\n",
    "ax[1].set_title('S')\n"
   ]
  },
  {
   "cell_type": "code",
   "execution_count": 37,
   "metadata": {},
   "outputs": [
    {
     "name": "stdout",
     "output_type": "stream",
     "text": [
      "(5, 1)\n",
      "(10, 1)\n"
     ]
    }
   ],
   "source": [
    "Mest = R*m\n",
    "Dpred = S*d.T\n",
    "print(np.shape(Mest))\n",
    "print(np.shape(Dpred))"
   ]
  },
  {
   "cell_type": "code",
   "execution_count": 38,
   "metadata": {},
   "outputs": [],
   "source": [
    "d=np.array([-26.8789, -27.1257, -27.4999, -14.907, -5.9737, 18.3194, 19.0408, 21.6918, 25.0392, 28.7211])\n",
    "fit=np.array([1.5905, 0.8008, 1.1438, 2.6112, 0.8839, 0.7195, 2.0715, 1.358, 1.0329, 0.8648])"
   ]
  },
  {
   "cell_type": "code",
   "execution_count": 44,
   "metadata": {},
   "outputs": [],
   "source": [
    "msi=Gg*(d+fit).T\n"
   ]
  },
  {
   "cell_type": "code",
   "execution_count": null,
   "metadata": {},
   "outputs": [],
   "source": []
  }
 ],
 "metadata": {
  "kernelspec": {
   "display_name": "Python 3.9.12 ('base')",
   "language": "python",
   "name": "python3"
  },
  "language_info": {
   "codemirror_mode": {
    "name": "ipython",
    "version": 3
   },
   "file_extension": ".py",
   "mimetype": "text/x-python",
   "name": "python",
   "nbconvert_exporter": "python",
   "pygments_lexer": "ipython3",
   "version": "3.9.12"
  },
  "orig_nbformat": 4,
  "vscode": {
   "interpreter": {
    "hash": "82a221401b88aaf6e5f57ee7bedcbd75c4114103ebfad44d5c146cffcdea6559"
   }
  }
 },
 "nbformat": 4,
 "nbformat_minor": 2
}
