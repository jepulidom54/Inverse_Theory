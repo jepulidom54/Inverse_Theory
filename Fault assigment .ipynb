{
 "cells": [
  {
   "cell_type": "code",
   "execution_count": 10,
   "metadata": {},
   "outputs": [],
   "source": [
    "import numpy as np\n",
    "import math\n",
    "from cmath import sqrt"
   ]
  },
  {
   "cell_type": "code",
   "execution_count": 11,
   "metadata": {},
   "outputs": [
    {
     "name": "stdout",
     "output_type": "stream",
     "text": [
      "3.141592653589793\n"
     ]
    }
   ],
   "source": [
    "x=np.array([5,20,25,70,115,145,185,200,206,220,290])\n",
    "\n",
    "#how last value affect the calculation\n",
    "xf=np.array([60,110,140,150,210,0])\n",
    "\n",
    "D=np.array([10,10,5,15,12,0])\n",
    "np.shape(x)\n",
    "np.shape(xf)\n",
    "np.shape(D)\n",
    "pi = math.pi\n",
    "print(pi)"
   ]
  },
  {
   "cell_type": "code",
   "execution_count": 12,
   "metadata": {},
   "outputs": [
    {
     "name": "stdout",
     "output_type": "stream",
     "text": [
      "-0.44275085295129984\n",
      "0.4861691504333381\n"
     ]
    }
   ],
   "source": [
    "v1f1 = np.arctan((x[0]-xf[0])/D[0])/pi\n",
    "v2f1 = np.arctan((x[1]-xf[0])/D[0])/pi\n",
    "v3f1 = np.arctan((x[2]-xf[0])/D[0])/pi\n",
    "v4f1 = np.arctan((x[3]-xf[0])/D[0])/pi\n",
    "v5f1 = np.arctan((x[4]-xf[0])/D[0])/pi\n",
    "v6f1 = np.arctan((x[5]-xf[0])/D[0])/pi\n",
    "v7f1 = np.arctan((x[6]-xf[0])/D[0])/pi\n",
    "v8f1 = np.arctan((x[7]-xf[0])/D[0])/pi\n",
    "v9f1 = np.arctan((x[8]-xf[0])/D[0])/pi\n",
    "v10f1 = np.arctan((x[9]-xf[0])/D[0])/pi\n",
    "v11f1 = np.arctan((x[10]-xf[0])/D[0])/pi\n",
    "\n",
    "print(v1f1)\n",
    "print(v11f1)"
   ]
  },
  {
   "cell_type": "code",
   "execution_count": 13,
   "metadata": {},
   "outputs": [
    {
     "name": "stdout",
     "output_type": "stream",
     "text": [
      "-0.4697759331610805\n",
      "0.48233427711186533\n"
     ]
    }
   ],
   "source": [
    "v1f2 = np.arctan((x[0]-xf[1])/D[1])/pi\n",
    "v2f2 = np.arctan((x[1]-xf[1])/D[1])/pi\n",
    "v3f2 = np.arctan((x[2]-xf[1])/D[1])/pi\n",
    "v4f2 = np.arctan((x[3]-xf[1])/D[1])/pi\n",
    "v5f2 = np.arctan((x[4]-xf[1])/D[1])/pi\n",
    "v6f2 = np.arctan((x[5]-xf[1])/D[1])/pi\n",
    "v7f2 = np.arctan((x[6]-xf[1])/D[1])/pi\n",
    "v8f2 = np.arctan((x[7]-xf[1])/D[1])/pi\n",
    "v9f2 = np.arctan((x[8]-xf[1])/D[1])/pi\n",
    "v10f2 = np.arctan((x[9]-xf[1])/D[1])/pi\n",
    "v11f2 = np.arctan((x[10]-xf[1])/D[1])/pi\n",
    "\n",
    "print(v1f2)\n",
    "print(v11f2)"
   ]
  },
  {
   "cell_type": "code",
   "execution_count": 14,
   "metadata": {},
   "outputs": [
    {
     "name": "stdout",
     "output_type": "stream",
     "text": [
      "-0.48821613112965856\n",
      "0.48939359759446455\n"
     ]
    }
   ],
   "source": [
    "v1f3 = np.arctan((x[0]-xf[2])/D[2])/pi\n",
    "v2f3 = np.arctan((x[1]-xf[2])/D[2])/pi\n",
    "v3f3 = np.arctan((x[2]-xf[2])/D[2])/pi\n",
    "v4f3 = np.arctan((x[3]-xf[2])/D[2])/pi\n",
    "v5f3 = np.arctan((x[4]-xf[2])/D[2])/pi\n",
    "v6f3 = np.arctan((x[5]-xf[2])/D[2])/pi\n",
    "v7f3 = np.arctan((x[6]-xf[2])/D[2])/pi\n",
    "v8f3 = np.arctan((x[7]-xf[2])/D[2])/pi\n",
    "v9f3 = np.arctan((x[8]-xf[2])/D[2])/pi\n",
    "v10f3 = np.arctan((x[9]-xf[2])/D[2])/pi\n",
    "v11f3 = np.arctan((x[10]-xf[2])/D[2])/pi\n",
    "\n",
    "print(v1f3)\n",
    "print(v11f3)"
   ]
  },
  {
   "cell_type": "code",
   "execution_count": 15,
   "metadata": {},
   "outputs": [
    {
     "name": "stdout",
     "output_type": "stream",
     "text": [
      "-0.4671881049234972\n",
      "0.4660249801873033\n"
     ]
    }
   ],
   "source": [
    "v1f4 = np.arctan((x[0]-xf[3])/D[3])/pi\n",
    "v2f4 = np.arctan((x[1]-xf[3])/D[3])/pi\n",
    "v3f4 = np.arctan((x[2]-xf[3])/D[3])/pi\n",
    "v4f4 = np.arctan((x[3]-xf[3])/D[3])/pi\n",
    "v5f4 = np.arctan((x[4]-xf[3])/D[3])/pi\n",
    "v6f4 = np.arctan((x[5]-xf[3])/D[3])/pi\n",
    "v7f4 = np.arctan((x[6]-xf[3])/D[3])/pi\n",
    "v8f4 = np.arctan((x[7]-xf[3])/D[3])/pi\n",
    "v9f4 = np.arctan((x[8]-xf[3])/D[3])/pi\n",
    "v10f4 = np.arctan((x[9]-xf[3])/D[3])/pi\n",
    "v11f4 = np.arctan((x[10]-xf[3])/D[3])/pi\n",
    "print(v1f4)\n",
    "print(v11f4)"
   ]
  },
  {
   "cell_type": "code",
   "execution_count": 16,
   "metadata": {},
   "outputs": [
    {
     "name": "stdout",
     "output_type": "stream",
     "text": [
      "-0.4813884644583251\n",
      "0.4526068577225104\n"
     ]
    }
   ],
   "source": [
    "v1f5 = np.arctan((x[0]-xf[4])/D[4])/pi\n",
    "v2f5 = np.arctan((x[1]-xf[4])/D[4])/pi\n",
    "v3f5 = np.arctan((x[2]-xf[4])/D[4])/pi\n",
    "v4f5 = np.arctan((x[3]-xf[4])/D[4])/pi\n",
    "v5f5 = np.arctan((x[4]-xf[4])/D[4])/pi\n",
    "v6f5 = np.arctan((x[5]-xf[4])/D[4])/pi\n",
    "v7f5 = np.arctan((x[6]-xf[4])/D[4])/pi\n",
    "v8f5 = np.arctan((x[7]-xf[4])/D[4])/pi\n",
    "v9f5 = np.arctan((x[8]-xf[4])/D[4])/pi\n",
    "v10f5 = np.arctan((x[9]-xf[4])/D[4])/pi\n",
    "v11f5 = np.arctan((x[10]-xf[4])/D[4])/pi\n",
    "print(v1f5)\n",
    "print(v11f5)"
   ]
  },
  {
   "cell_type": "code",
   "execution_count": 17,
   "metadata": {},
   "outputs": [
    {
     "data": {
      "text/plain": [
       "(11, 5)"
      ]
     },
     "execution_count": 17,
     "metadata": {},
     "output_type": "execute_result"
    }
   ],
   "source": [
    "G=np.matrix([[v1f1, v1f2, v1f3, v1f4, v1f5],\n",
    "             [v2f1, v2f2, v2f3, v2f4, v2f5],\n",
    "             [v3f1, v3f2, v3f3, v3f4, v3f5],\n",
    "             [v4f1, v4f2, v4f3, v4f4, v4f5],\n",
    "             [v5f1, v5f2, v5f3, v5f4, v5f5],\n",
    "             [v6f1, v6f2, v6f3, v6f4, v6f5],\n",
    "             [v7f1, v7f2, v7f3, v7f4, v7f5],\n",
    "             [v8f1, v8f2, v8f3, v8f4, v8f5],\n",
    "             [v9f1, v9f2, v9f3, v9f4, v9f5],\n",
    "             [v10f1, v10f2, v10f3, v10f4, v10f5],\n",
    "             [v11f1, v11f2, v11f3, v11f4, v11f5]])\n",
    "\n",
    "np.shape(G)"
   ]
  },
  {
   "cell_type": "code",
   "execution_count": 19,
   "metadata": {},
   "outputs": [],
   "source": [
    "dim=np.matrix([-27,-27,-27,-20,-8,5,12,12,12,17,17])"
   ]
  },
  {
   "cell_type": "code",
   "execution_count": 30,
   "metadata": {},
   "outputs": [
    {
     "name": "stdout",
     "output_type": "stream",
     "text": [
      "(1, 5)\n"
     ]
    },
    {
     "data": {
      "text/plain": [
       "matrix([[61.81722746, 79.92691791, 87.19673966, 78.4978935 , 53.10538803]])"
      ]
     },
     "execution_count": 30,
     "metadata": {},
     "output_type": "execute_result"
    }
   ],
   "source": [
    "t = dim.T*G\n",
    "print(np.shape(t))\n",
    "dT=dim.T\n",
    "t"
   ]
  },
  {
   "cell_type": "code",
   "execution_count": 31,
   "metadata": {},
   "outputs": [
    {
     "name": "stdout",
     "output_type": "stream",
     "text": [
      "<class 'numpy.matrix'>\n",
      "(11, 5)\n"
     ]
    },
    {
     "data": {
      "text/plain": [
       "11"
      ]
     },
     "execution_count": 31,
     "metadata": {},
     "output_type": "execute_result"
    }
   ],
   "source": [
    "print(type(G))\n",
    "print(np.shape(G))\n",
    "len(G)"
   ]
  },
  {
   "cell_type": "code",
   "execution_count": 32,
   "metadata": {},
   "outputs": [
    {
     "data": {
      "text/plain": [
       "array([2.78562392, 1.40396765, 0.62286822, 0.30871162, 0.18113364])"
      ]
     },
     "execution_count": 32,
     "metadata": {},
     "output_type": "execute_result"
    }
   ],
   "source": [
    "u,s,vh = np.linalg.svd(G.T, full_matrices=True)\n",
    "len(s)\n",
    "s"
   ]
  },
  {
   "cell_type": "code",
   "execution_count": 33,
   "metadata": {},
   "outputs": [
    {
     "data": {
      "text/plain": [
       "(5, 5)"
      ]
     },
     "execution_count": 33,
     "metadata": {},
     "output_type": "execute_result"
    }
   ],
   "source": [
    "sm = np.matrix([[s[0],0,0,0,0],\n",
    "                [0,s[1],0,0,0],\n",
    "                [0,0,s[2],0,0],\n",
    "                [0,0,0,s[3],0],\n",
    "                [0,0,0,0,s[4]]])\n",
    "np.shape(sm)  "
   ]
  },
  {
   "cell_type": "code",
   "execution_count": 34,
   "metadata": {},
   "outputs": [
    {
     "name": "stdout",
     "output_type": "stream",
     "text": [
      "[[2.78562392 0.         0.         0.        ]\n",
      " [0.         1.40396765 0.         0.        ]\n",
      " [0.         0.         0.62286822 0.        ]\n",
      " [0.         0.         0.         0.30871162]]\n"
     ]
    }
   ],
   "source": [
    "sm\n",
    "p=4\n",
    "print(sm[0:p, 0:p])\n",
    "sp=(sm[0:p, 0:p])"
   ]
  },
  {
   "cell_type": "code",
   "execution_count": 35,
   "metadata": {},
   "outputs": [
    {
     "name": "stdout",
     "output_type": "stream",
     "text": [
      "(5, 5)\n",
      "(5, 5)\n",
      "(11, 11)\n"
     ]
    }
   ],
   "source": [
    "print(np.shape(u))\n",
    "print(np.shape(sm))\n",
    "print(np.shape(vh))\n",
    "#print(u,sm,vh)"
   ]
  },
  {
   "cell_type": "code",
   "execution_count": 36,
   "metadata": {},
   "outputs": [],
   "source": [
    "up=np.transpose(u[:,0:p])\n",
    "sp=np.linalg.inv(sm[0:p,0:p])\n",
    "vp=np.transpose(vh[0:p,:])"
   ]
  },
  {
   "cell_type": "code",
   "execution_count": 37,
   "metadata": {},
   "outputs": [
    {
     "name": "stdout",
     "output_type": "stream",
     "text": [
      "(4, 5)\n",
      "(4, 4)\n",
      "(11, 4)\n"
     ]
    }
   ],
   "source": [
    "up\n",
    "print(np.shape(up))\n",
    "sp\n",
    "print(np.shape(sp))\n",
    "vp\n",
    "print(np.shape(vp))"
   ]
  },
  {
   "cell_type": "code",
   "execution_count": 38,
   "metadata": {},
   "outputs": [
    {
     "data": {
      "text/plain": [
       "(11, 5)"
      ]
     },
     "execution_count": 38,
     "metadata": {},
     "output_type": "execute_result"
    }
   ],
   "source": [
    "Gg = vp*sp*up\n",
    "np.shape(Gg)"
   ]
  },
  {
   "cell_type": "code",
   "execution_count": 40,
   "metadata": {},
   "outputs": [],
   "source": [
    "m=Gg*t.T"
   ]
  },
  {
   "cell_type": "code",
   "execution_count": 41,
   "metadata": {},
   "outputs": [
    {
     "name": "stdout",
     "output_type": "stream",
     "text": [
      "[[-23.85084421 -23.6496789  -23.56340444 -20.86053089  -7.67370854\n",
      "    4.3488754    9.66240333  12.18760681  14.20099787  19.60509833\n",
      "   23.76194865]]\n",
      "[-27 -27 -27 -20  -8   5  12  12  12  17  17]\n"
     ]
    }
   ],
   "source": [
    "print(m.T)\n",
    "print(dim)"
   ]
  },
  {
   "cell_type": "code",
   "execution_count": null,
   "metadata": {},
   "outputs": [],
   "source": []
  }
 ],
 "metadata": {
  "kernelspec": {
   "display_name": "Python 3.9.12 ('base')",
   "language": "python",
   "name": "python3"
  },
  "language_info": {
   "codemirror_mode": {
    "name": "ipython",
    "version": 3
   },
   "file_extension": ".py",
   "mimetype": "text/x-python",
   "name": "python",
   "nbconvert_exporter": "python",
   "pygments_lexer": "ipython3",
   "version": "3.9.12"
  },
  "orig_nbformat": 4,
  "vscode": {
   "interpreter": {
    "hash": "82a221401b88aaf6e5f57ee7bedcbd75c4114103ebfad44d5c146cffcdea6559"
   }
  }
 },
 "nbformat": 4,
 "nbformat_minor": 2
}
